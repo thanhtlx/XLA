{
 "cells": [
  {
   "cell_type": "code",
   "execution_count": 1,
   "id": "6e0335ae-e0b0-4dca-bd17-3e44761c593b",
   "metadata": {},
   "outputs": [],
   "source": [
    "import pandas as pd\n",
    "import numpy as np"
   ]
  },
  {
   "cell_type": "code",
   "execution_count": 46,
   "id": "34c604e8-1a44-4632-bb08-8a696849cdc9",
   "metadata": {},
   "outputs": [],
   "source": [
    "def cell_in_same_row(c1, c2):\n",
    "    c1_center = (c1[2] + c1[3]) / 2\n",
    "    c2_bottom = c2[3]\n",
    "    c2_top = c2[2]\n",
    "    return c2_top < c1_center < c2_bottom\n",
    "\n",
    "def avg_height_of_center(row):\n",
    "    centers = [(ymin + ymax) / 2 for xmin, xmax, ymin, ymax in row]\n",
    "    return sum(centers) / len(centers)"
   ]
  },
  {
   "cell_type": "code",
   "execution_count": 47,
   "id": "079f19d0-2852-41d1-98f9-8e5d85acf656",
   "metadata": {},
   "outputs": [
    {
     "data": {
      "text/html": [
       "<div>\n",
       "<style scoped>\n",
       "    .dataframe tbody tr th:only-of-type {\n",
       "        vertical-align: middle;\n",
       "    }\n",
       "\n",
       "    .dataframe tbody tr th {\n",
       "        vertical-align: top;\n",
       "    }\n",
       "\n",
       "    .dataframe thead th {\n",
       "        text-align: right;\n",
       "    }\n",
       "</style>\n",
       "<table border=\"1\" class=\"dataframe\">\n",
       "  <thead>\n",
       "    <tr style=\"text-align: right;\">\n",
       "      <th></th>\n",
       "      <th>xmin</th>\n",
       "      <th>xmax</th>\n",
       "      <th>ymin</th>\n",
       "      <th>ymax</th>\n",
       "    </tr>\n",
       "  </thead>\n",
       "  <tbody>\n",
       "    <tr>\n",
       "      <th>0</th>\n",
       "      <td>103</td>\n",
       "      <td>202</td>\n",
       "      <td>9</td>\n",
       "      <td>26</td>\n",
       "    </tr>\n",
       "    <tr>\n",
       "      <th>1</th>\n",
       "      <td>258</td>\n",
       "      <td>401</td>\n",
       "      <td>9</td>\n",
       "      <td>26</td>\n",
       "    </tr>\n",
       "    <tr>\n",
       "      <th>2</th>\n",
       "      <td>7</td>\n",
       "      <td>60</td>\n",
       "      <td>38</td>\n",
       "      <td>52</td>\n",
       "    </tr>\n",
       "    <tr>\n",
       "      <th>3</th>\n",
       "      <td>102</td>\n",
       "      <td>217</td>\n",
       "      <td>38</td>\n",
       "      <td>49</td>\n",
       "    </tr>\n",
       "    <tr>\n",
       "      <th>4</th>\n",
       "      <td>234</td>\n",
       "      <td>242</td>\n",
       "      <td>38</td>\n",
       "      <td>49</td>\n",
       "    </tr>\n",
       "  </tbody>\n",
       "</table>\n",
       "</div>"
      ],
      "text/plain": [
       "   xmin  xmax  ymin  ymax\n",
       "0   103   202     9    26\n",
       "1   258   401     9    26\n",
       "2     7    60    38    52\n",
       "3   102   217    38    49\n",
       "4   234   242    38    49"
      ]
     },
     "execution_count": 47,
     "metadata": {},
     "output_type": "execute_result"
    }
   ],
   "source": [
    "data = pd.read_csv('cell data/19.csv')\n",
    "data.head()"
   ]
  },
  {
   "cell_type": "code",
   "execution_count": 48,
   "id": "b07185b9-5f31-4282-a464-02c9cbfe6659",
   "metadata": {},
   "outputs": [],
   "source": [
    "cells = pd.DataFrame.to_numpy(data).tolist()\n",
    "for cell in cells:\n",
    "    cell = tuple(cell)"
   ]
  },
  {
   "cell_type": "code",
   "execution_count": 49,
   "id": "22bb13e7-7cd0-43a1-b034-cebda843c61a",
   "metadata": {},
   "outputs": [],
   "source": [
    "rows = []\n",
    "while cells:\n",
    "    first = cells[0]\n",
    "    rest = cells[1:]\n",
    "    cells_in_same_row = sorted([c for c in rest if cell_in_same_row(c, first)], key=lambda c: c[0])\n",
    "\n",
    "    row_cells = sorted([first] + cells_in_same_row, key=lambda c: c[0])\n",
    "    rows.append(row_cells)\n",
    "    cells = [c for c in rest if not cell_in_same_row(c, first)]\n",
    "        \n",
    "rows.sort(key=avg_height_of_center)"
   ]
  },
  {
   "cell_type": "code",
   "execution_count": 50,
   "id": "69a3f9ce-e5a7-4123-9239-a258c7d9769f",
   "metadata": {},
   "outputs": [
    {
     "data": {
      "text/plain": [
       "[[[103, 202, 9, 26], [258, 401, 9, 26]],\n",
       " [[7, 60, 38, 52], [102, 217, 38, 49], [234, 242, 38, 49], [258, 344, 38, 52]],\n",
       " [[7, 60, 65, 79], [103, 223, 65, 79], [234, 242, 65, 76], [258, 344, 65, 79]],\n",
       " [[6, 60, 91, 105],\n",
       "  [103, 165, 91, 105],\n",
       "  [234, 243, 91, 102],\n",
       "  [258, 319, 91, 105]],\n",
       " [[7, 60, 118, 132],\n",
       "  [103, 165, 118, 132],\n",
       "  [234, 242, 118, 129],\n",
       "  [257, 369, 118, 132]],\n",
       " [[7, 60, 144, 158],\n",
       "  [102, 217, 144, 155],\n",
       "  [234, 242, 144, 155],\n",
       "  [257, 346, 144, 155]],\n",
       " [[7, 60, 170, 184],\n",
       "  [103, 185, 169, 184],\n",
       "  [234, 242, 170, 181],\n",
       "  [257, 371, 170, 181]]]"
      ]
     },
     "execution_count": 50,
     "metadata": {},
     "output_type": "execute_result"
    }
   ],
   "source": [
    "rows"
   ]
  },
  {
   "cell_type": "code",
   "execution_count": 41,
   "id": "724f7521-2ce9-4b0b-a1d5-dea33959e5d6",
   "metadata": {},
   "outputs": [
    {
     "data": {
      "text/plain": [
       "[]"
      ]
     },
     "execution_count": 41,
     "metadata": {},
     "output_type": "execute_result"
    }
   ],
   "source": [
    "cells"
   ]
  },
  {
   "cell_type": "code",
   "execution_count": null,
   "id": "a253dd76-901f-45d4-bada-d5245f657a70",
   "metadata": {},
   "outputs": [],
   "source": []
  }
 ],
 "metadata": {
  "kernelspec": {
   "display_name": "Python 3 (ipykernel)",
   "language": "python",
   "name": "python3"
  },
  "language_info": {
   "codemirror_mode": {
    "name": "ipython",
    "version": 3
   },
   "file_extension": ".py",
   "mimetype": "text/x-python",
   "name": "python",
   "nbconvert_exporter": "python",
   "pygments_lexer": "ipython3",
   "version": "3.8.11"
  }
 },
 "nbformat": 4,
 "nbformat_minor": 5
}
