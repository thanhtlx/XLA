{
 "cells": [
  {
   "cell_type": "code",
   "execution_count": 1,
   "id": "5978ab41-c074-4a84-a4bb-0f2eba279523",
   "metadata": {},
   "outputs": [],
   "source": [
    "from bs4 import BeautifulSoup as BS\n",
    "import pandas as pd\n",
    "import numpy as np"
   ]
  },
  {
   "cell_type": "code",
   "execution_count": 26,
   "id": "d0c2de7a-e22b-4b88-a477-4e37f52a1f19",
   "metadata": {},
   "outputs": [],
   "source": [
    "import os\n",
    "\n",
    "paths = os.listdir('annotations')"
   ]
  },
  {
   "cell_type": "code",
   "execution_count": 28,
   "id": "3a7353bc-20a3-4b2c-9b4f-ce528ea71e43",
   "metadata": {},
   "outputs": [],
   "source": [
    "for path in paths:\n",
    "    file_idx = path[:-4]\n",
    "    \n",
    "    path = 'annotations/' + path\n",
    "    with open(path, 'r') as f:\n",
    "        text = f.read()\n",
    "    \n",
    "    soup = BS(text, 'html.parser')\n",
    "    objects = soup.find_all('object')\n",
    "    bndbox = [obj.find('bndbox') for obj in objects]\n",
    "    xmin = [int(box.find('xmin').text) for box in bndbox]\n",
    "    ymin = [int(box.find('ymin').text) for box in bndbox]\n",
    "    xmax = [int(box.find('xmax').text) for box in bndbox]\n",
    "    ymax = [int(box.find('ymax').text) for box in bndbox]\n",
    "    \n",
    "    data = pd.DataFrame({'xmin': xmin, 'xmax': xmax, 'ymin': ymin, 'ymax': ymax})\n",
    "    \n",
    "    pd.DataFrame.to_csv(data, 'cell data/' + file_idx + '.csv', index=False)"
   ]
  },
  {
   "cell_type": "code",
   "execution_count": null,
   "id": "5a9472b5-5aaa-41af-9642-39c250bd138e",
   "metadata": {},
   "outputs": [],
   "source": []
  }
 ],
 "metadata": {
  "kernelspec": {
   "display_name": "Python 3 (ipykernel)",
   "language": "python",
   "name": "python3"
  },
  "language_info": {
   "codemirror_mode": {
    "name": "ipython",
    "version": 3
   },
   "file_extension": ".py",
   "mimetype": "text/x-python",
   "name": "python",
   "nbconvert_exporter": "python",
   "pygments_lexer": "ipython3",
   "version": "3.8.11"
  }
 },
 "nbformat": 4,
 "nbformat_minor": 5
}
